{
 "cells": [
  {
   "cell_type": "code",
   "execution_count": 1,
   "id": "bacb4263-07b8-4d97-a520-6871df1042d7",
   "metadata": {},
   "outputs": [],
   "source": [
    "#!pip install mediapipe\n"
   ]
  },
  {
   "cell_type": "code",
   "execution_count": 1,
   "id": "31743237-7dd8-499e-8b6c-1dbe3feb47c3",
   "metadata": {},
   "outputs": [],
   "source": [
    "import mediapipe as mp\n",
    "import cv2\n",
    "import time"
   ]
  },
  {
   "cell_type": "code",
   "execution_count": 2,
   "id": "a765d7fe-b2fa-42d6-bb7b-1acc863e92cf",
   "metadata": {},
   "outputs": [],
   "source": [
    "mp_hands = mp.solutions.hands\n",
    "hands = mp_hands.Hands(max_num_hands = 1)\n",
    "\n",
    "mp_draw = mp.solutions.drawing_utils\n",
    "\n",
    "ctime = 0\n",
    "ptime = 0"
   ]
  },
  {
   "cell_type": "code",
   "execution_count": 3,
   "id": "00922059-8ffd-4eef-aba2-1947573519c1",
   "metadata": {},
   "outputs": [],
   "source": [
    "cap = cv2.VideoCapture(0)\n",
    "while cap.isOpened():\n",
    "    success, frame = cap.read()\n",
    "\n",
    "    frameRGB = cv2.cvtColor(frame, cv2.COLOR_BGR2RGB)\n",
    "    result = hands.process(frameRGB)\n",
    "\n",
    "    if result.multi_hand_landmarks:\n",
    "\n",
    "        for hand_landmark in result.multi_hand_landmarks:\n",
    "            for id, lm in enumerate(hands.landmark):\n",
    "            mp_draw.draw_landmarks(frame,\n",
    "                                  hand_landmark,\n",
    "                                  mp_hands.HAND_CONNECTIONS)\n",
    "    ctime = time.time()\n",
    "    fps = 1/(ctime-ptime)\n",
    "    ptime = ctime\n",
    "\n",
    "    cv2.putText(frame, str(int(fps)), (10,70), cv2.FONT_HERSHEY_PLAIN, 3,\n",
    "               (255,0,255), 3)\n",
    "    cv2.imshow(\"Hands Detection\", cv2.flip(frame,1))\n",
    "    if cv2.waitKey(1) & 0xFF == 27:\n",
    "        break\n",
    "\n",
    "\n",
    "\n",
    "cap.release()\n",
    "cv2.destroyAllWindows()\n",
    "        "
   ]
  },
  {
   "cell_type": "code",
   "execution_count": null,
   "id": "6ca01666-9910-4fa6-86ee-35c778206c00",
   "metadata": {},
   "outputs": [],
   "source": []
  }
 ],
 "metadata": {
  "kernelspec": {
   "display_name": "MachineLearning",
   "language": "python",
   "name": "machinelearning"
  },
  "language_info": {
   "codemirror_mode": {
    "name": "ipython",
    "version": 3
   },
   "file_extension": ".py",
   "mimetype": "text/x-python",
   "name": "python",
   "nbconvert_exporter": "python",
   "pygments_lexer": "ipython3",
   "version": "3.11.5"
  }
 },
 "nbformat": 4,
 "nbformat_minor": 5
}
